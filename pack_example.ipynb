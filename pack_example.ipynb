{
 "cells": [
  {
   "cell_type": "code",
   "execution_count": 1,
   "id": "e317d08a-0d1e-4ccd-8bab-c784fe831377",
   "metadata": {},
   "outputs": [],
   "source": [
    "import exllama"
   ]
  },
  {
   "cell_type": "code",
   "execution_count": 4,
   "id": "4b836a08-6d46-401f-84e6-09da643c9809",
   "metadata": {},
   "outputs": [],
   "source": [
    "import numpy"
   ]
  },
  {
   "cell_type": "code",
   "execution_count": 5,
   "id": "bdbb9392-5e33-48b0-b275-6feaad4ba26a",
   "metadata": {},
   "outputs": [],
   "source": [
    "import langchain"
   ]
  },
  {
   "cell_type": "code",
   "execution_count": 15,
   "id": "dc59b959-89d7-4b6e-9f30-735fb6901fcd",
   "metadata": {},
   "outputs": [
    {
     "name": "stdout",
     "output_type": "stream",
     "text": [
      "4bit-128g.safetensors\thuggingface-metadata.txt      tokenizer.model\n",
      "README.md\t\tpytorch_model.bin.index.json  tokenizer_config.json\n",
      "config.json\t\tspecial_tokens_map.json       tokenizer_config.json.1\n",
      "generation_config.json\ttokenizer.json\n"
     ]
    }
   ],
   "source": [
    "!ls models/tsumeone_llama-30b-supercot-4bit-128g-cuda\n"
   ]
  },
  {
   "cell_type": "code",
   "execution_count": 16,
   "id": "0060a038-9aaf-4672-921c-9fbb43e9e5fc",
   "metadata": {},
   "outputs": [
    {
     "name": "stdout",
     "output_type": "stream",
     "text": [
      "Once upon a time, in the middle of winter, when snow lay deep and crisp and even, there was an old man who sat in front of his cottage with his cat purring on his lap. There he sat, warming himself by the fire while the snow fell all around him.\n",
      "Inside the house his wife bustled about getting ready for Christmas. Outside, it looked like everything had been painted white. The trees were frosted over; the grass sparkled under its blanket of snow. Even the sky seemed to be whiter than usual. Everything was still except for the occasional flake that floated down from above. It was as if the world itself had stopped moving.\n",
      "The old man smiled at the sight before him. He loved this time of year – especially now that he didn’t have to go out into the cold anymore. Instead, he could sit inside, warm and cosy, watching the world outside through the windowpanes. His\n"
     ]
    }
   ],
   "source": [
    "from exllama.model import ExLlama, ExLlamaCache, ExLlamaConfig\n",
    "from exllama.tokenizer import ExLlamaTokenizer\n",
    "from exllama.generator import ExLlamaGenerator\n",
    "import os, glob\n",
    "\n",
    "# Directory containing model, tokenizer, generator\n",
    "\n",
    "model_directory =  \"models/tsumeone_llama-30b-supercot-4bit-128g-cuda\"\n",
    "\n",
    "# Locate files we need within that directory\n",
    "\n",
    "tokenizer_path = os.path.join(model_directory, \"tokenizer.model\")\n",
    "model_config_path = os.path.join(model_directory, \"config.json\")\n",
    "st_pattern = os.path.join(model_directory, \"*.safetensors\")\n",
    "model_path = glob.glob(st_pattern)[0]\n",
    "\n",
    "# Create config, model, tokenizer and generator\n",
    "\n",
    "config = ExLlamaConfig(model_config_path)               # create config from config.json\n",
    "config.model_path = model_path                          # supply path to model weights file\n",
    "\n",
    "model = ExLlama(config)                                 # create ExLlama instance and load the weights\n",
    "tokenizer = ExLlamaTokenizer(tokenizer_path)            # create tokenizer from tokenizer model file\n",
    "\n",
    "cache = ExLlamaCache(model)                             # create cache for inference\n",
    "generator = ExLlamaGenerator(model, tokenizer, cache)   # create generator\n",
    "\n",
    "# Configure generator\n",
    "\n",
    "generator.disallow_tokens([tokenizer.eos_token_id])\n",
    "\n",
    "generator.settings.token_repetition_penalty_max = 1.2\n",
    "generator.settings.temperature = 0.95\n",
    "generator.settings.top_p = 0.65\n",
    "generator.settings.top_k = 100\n",
    "generator.settings.typical = 0.5\n",
    "\n",
    "# Produce a simple generation\n",
    "\n",
    "prompt = \"Once upon a time,\"\n",
    "print (prompt, end = \"\")\n",
    "\n",
    "output = generator.generate_simple(prompt, max_new_tokens = 200)\n",
    "\n",
    "print(output[len(prompt):])\n"
   ]
  },
  {
   "cell_type": "code",
   "execution_count": 21,
   "id": "a6fbc859-3bb4-4a64-8ac4-cad05143e899",
   "metadata": {},
   "outputs": [
    {
     "name": "stdout",
     "output_type": "stream",
     "text": [
      "Once upon a time, there was an ancient king who had two sons. The elder son became the heir to his father’s throne and ruled with wisdom. He brought peace and prosperity to his kingdom. But one day, his younger brother challenged him for power. In their battle, both brothers were killed.\n",
      "The people of the land were devastated by this tragedy. They didn’t know what to do next. Then they remembered that the older prince had left behind a beautiful daughter. She was kind-hearted and wise beyond her years. So they crowned her as queen. Under her rule, the kingdom flourished once again. And so it came to pass that goodness triumphed over evil.\n",
      "Moral: Good always prevails in the end.\n",
      "12. THE BOY WHO CRIED WOLF\n",
      "Once upon a time, there lived a shepherd boy who tended his flock at pasture. One day, he disliked his work and decided to play a prank on the villagers. He shouted, “Wolf! Wolf!” This caused great panic among the villagers. They dropped whatever they were doing and ran towards the pasture to help the boy drive away the wolf. When they reached the spot, however, they found no wolf. The boy laughed at them and said, “April Fool!”\n",
      "But when the wolf really appeared a few days later, the boy cried out for help. However, nobody paid any attention to his cries because they thought it was another one of his jokes. The poor boy lost all his sheep to the hungry wolf. From then onwards, whenever the boy cried out, “Wolf,” nobody listened to him anymore. Moral: Don’t tell lies or you will lose credibility.\n",
      "13. SLOW AND STEADY WINS THE RACE\n",
      "There once lived two tortoises named Hare and Tortoise. Both of them wanted to win a race against each other. So they agreed to have a competition. On the day of the race, everyone gathered around to watch. As soon as the signal was given, Hare started running with full speed while Tortoise slowly walked along. But after some distance, Hare got tired and fell asleep under a tree. Meanwhile, Tortoise kept walking steadily until he finally reached the finish line and won the race.\n",
      "Moral: It is better to do things slowly but surely than rush through them without paying proper attention.\n",
      "14. LITTLE RED RIDING HOOD\n",
      "Once upon a time, there lived an innocent little girl called Little Red Riding Hood who loved her grandmother dearly. One day, she received a basket from her mother filled with goodies and asked if she could take it to her sick grandma in the woods. Her mother warned her not to stray off the path and to beware of wolves that might come up to her. She set off into the forest and came across a wolf who tricked her by pretending to be lost like her. He told her where her grandmother’s house was located and persuaded her to pick flowers for her sick granny. While she did so, the sneaky wolf made his way towards the old woman’s cottage. When Little Red Riding Hood arrived at her grandmother’s place, she found the door open and the bed empty. The wolf had eaten her grandmother and disguised himself as her. However, when the little girl realized what happened, she shouted loudly which scared away the wolf. A woodcutter passing by heard her cry and rescued her. Moral: Don’t talk to strangers or you may get hurt.\n",
      "15. THE BOY WHO CRIED WOLF 2\n",
      "One day, a boy named Tom was tending sheep on a hillside near his village. His job was boring, so he decided to have some fun. He cried out “Wolf! Wolf!” Several times. Everyone in the village came running to help him drive away the wolf. But they couldn’t find any sign of one. They chided Tom for making them waste their time.\n",
      "But a few days later, a real wolf appeared while Tom was watching over the flock. This time, however, no one paid attention to his warning calls because they thought it was another prank. And all the sheep were killed by the hungry wolf. From then onwards, whenever Tom called for help, nobody listened to him anymore. Moral: Never tell lies or you will lose credibility.\n",
      "16. SNOW WHITE AND THE SEVEN DWARFS\n",
      "Once upon a time, there lived an evil queen who was obsessed with being the fairest in the land. One day, she asked her magic mirror if she still held that title. To her surprise, the mirror replied that Snow White, the princess living in the neighboring kingdom, was now the fairest in the land. Enraged at this news, the queen ordered her henchmen to kill Snow White and bring back her heart as proof. However, the guards took pity on the young girl and let her go into the woods. There, she met seven dwarfs who allowed her to stay with them. The jealous queen disguised herself several times but failed each time to poison Snow White. Finally, she tricked her into eating a poison apple which put her into a deep sleep. Luckily, a handsome prince happened to pass by and fell in love with her beauty. He kissed her and broke the spell, bringing her back to life. They got married and lived happily ever after. Moral: Beauty is only skin-deep; what matters most is inner goodness.\n",
      "17. CINDERELLA\n",
      "There once lived a beautiful girl named Cinderella whose mother had died when she was very young. Her father remarried a woman who had two daughters of her own. These stepsisters were cruel and treated Cinderella like their servant. She worked from dawn till dusk doing all the household chores while they went out to parties and balls. But one night, the king announced that he would hold a grand ball where his son, the prince, would choose his bride. All the eligible maidens were invited. When Cinderella’s stepmother refused to allow her to attend, she cried bitterly. Suddenly, her fairy godmother appeared and turned a pumpkin into a golden coach, mice into horses, and rats into footmen. She also gave her a beautiful gown and glass slippers. At the ball, everyone admired her graceful dancing and beauty. The prince himself asked for her hand in marriage. But before midnight struck, she fled leaving behind just a single glass slipper. The prince set off on a journey to find its owner. Eventually, he arrived at Cinderella’s house and tried it on every maiden until finally, it fit perfectly onto her delicate feet. They got married and lived happily ever after. Moral: Good things come to those who wait.\n",
      "Once upon a time, there lived an old couple who longed for a child but couldn’t have any. One day, as they sat by the fireplace, they heard a knock on their door. An elderly woman stood outside holding a basket with a baby inside. “Please take care of this little boy,” said the old lady. “He is yours now.” And then she disappeared without another word. The old couple was overjoyed and named him Hansel. As years passed by, the brother and sister grew up to be strong and healthy children. However, when times became hard due to famine, their parents could no longer afford to feed them. So one night, while their father slept, their mother led them deep into the woods where she left them alone with nothing but some breadcrumbs to follow home. But when Hansel woke up, he found that birds had eaten all the crumbs and they were lost in the forest. Luckily, they came across a cottage inhabited by an old woman who took pity on them and let them stay. When their parents realized what happened, they searched everywhere for them. Finally, they found them safe and sound and brought them back home. From then onwards, they never went hungry again. Moral: Family always sticks together through thick and thin.\n",
      "19. THE UGLY DUCKLING\n",
      "There once lived an ugly duckling who was mocked and ridiculed by everyone because of his appearance. He felt sad and lonely until one day, he saw swans flying overhead. He followed them and discovered that they were migrating south for winter. He joined them and flew along with them. To his surprise, he too transformed from an ugly duckling into a beautiful swan. His new friends welcomed him warmly and he finally found happiness among them. Moral: Don’t judge people based on their appearances; true beauty lies within.\n",
      "20. ALADDIN AND THE MAGIC LAMP\n",
      "Once upon a time, there lived a poor boy named Aladdin whose only possession was an old lamp. One day, while playing outside his house, he met a sorcerer who tricked him into entering a cave filled with treasures. As soon as Aladdin grabbed a handful of jewels, the entrance closed behind him leaving him\n"
     ]
    }
   ],
   "source": [
    "prompt = \"Once upon a time,\"\n",
    "print (prompt, end = \"\")\n",
    "\n",
    "output = generator.generate_simple(prompt, max_new_tokens = 12000)\n",
    "\n",
    "print(output[len(prompt):])"
   ]
  },
  {
   "cell_type": "code",
   "execution_count": 20,
   "id": "ee0ae60c-6cec-43ab-a574-a8fc73a5d75c",
   "metadata": {},
   "outputs": [
    {
     "name": "stdout",
     "output_type": "stream",
     "text": [
      "\u001b[31mERROR: Could not find a version that satisfies the requirement pack (from versions: none)\u001b[0m\u001b[31m\n",
      "\u001b[0m\u001b[31mERROR: No matching distribution found for pack\u001b[0m\u001b[31m\n",
      "\u001b[0m"
     ]
    }
   ],
   "source": []
  },
  {
   "cell_type": "code",
   "execution_count": null,
   "id": "7ff98671-463a-4e29-a303-960c45805726",
   "metadata": {},
   "outputs": [],
   "source": []
  }
 ],
 "metadata": {
  "kernelspec": {
   "display_name": "Python 3 (ipykernel)",
   "language": "python",
   "name": "python3"
  },
  "language_info": {
   "codemirror_mode": {
    "name": "ipython",
    "version": 3
   },
   "file_extension": ".py",
   "mimetype": "text/x-python",
   "name": "python",
   "nbconvert_exporter": "python",
   "pygments_lexer": "ipython3",
   "version": "3.10.6"
  }
 },
 "nbformat": 4,
 "nbformat_minor": 5
}
